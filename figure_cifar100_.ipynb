{
 "cells": [
  {
   "cell_type": "code",
   "execution_count": 1,
   "metadata": {},
   "outputs": [],
   "source": [
    "import argparse\n",
    "from models.model_resnet import *\n",
    "from models.model_resnet18 import *\n",
    "import myData.iDataset\n",
    "import myData.iDataLoader\n",
    "from utils import *\n",
    "from sklearn.utils import shuffle\n",
    "import trainer.trainer_warehouse\n",
    "import trainer.evaluator\n",
    "from myData.data_warehouse import *\n",
    "import easydict\n",
    "from models.W_resnet import *\n",
    "from sklearn.metrics import pairwise_distances\n",
    "import pickle\n",
    "import numpy as np\n",
    "import seaborn as sns\n",
    "import matplotlib.pyplot as mp"
   ]
  },
  {
   "cell_type": "code",
   "execution_count": 2,
   "metadata": {},
   "outputs": [],
   "source": [
    "args = easydict.EasyDict({\"batch_size\": 128,\n",
    "                          \"replay_batch_size\": 64,\n",
    "                          \"lr\": 0.1,\n",
    "                          \"bft_lr\" : 0.01,\n",
    "                          \"schedule\": [60,80],\n",
    "                          \"bft_schedule\": [30,40],\n",
    "                          \"gammas\" : [0.1, 0.1,0.1],\n",
    "                          \"momentum\" : 0.9,\n",
    "                          \"seed\" : 1,\n",
    "                          \"decay\" : 0.0005,\n",
    "                          \"step_size\" : 50,\n",
    "                          \"nepochs\" : 100,\n",
    "                          \"workers\" : 0,\n",
    "                          \"start_classes\" : 50,\n",
    "                          \"myData\" : 'CIFAR100',\n",
    "                          \"memory_size\" : 2000,\n",
    "                          \"dataset\" : \"CIFAR100\",\n",
    "                          \"device\" : \"cuda\",\n",
    "                          \"KD\" : \"naive_global\",\n",
    "                          \"trainer\" : 'wa', \n",
    "                          \"CCtriplet\" : True,\n",
    "                          \"distance\" : \"Eucledian\",\n",
    "                          \"beta\" : 1,\n",
    "                          \"margin\" : 0.5,\n",
    "                          \"triplet_lam\" : 0.5,\n",
    "                          \"dict_type\" : \"softmax\",\n",
    "                          \"dict_update\" : True,\n",
    "                          \"new_WA\" : False,\n",
    "                          \"triplet_epoch\" : 10,\n",
    "                          \"anchor_update_epoch\" : 10,\n",
    "                          \"GPU_NUM\" : 0,\n",
    "                          \"model\" : \"resnet32\"})"
   ]
  },
  {
   "cell_type": "markdown",
   "metadata": {},
   "source": [
    "# Load trained model"
   ]
  },
  {
   "cell_type": "code",
   "execution_count": 3,
   "metadata": {},
   "outputs": [
    {
     "name": "stdout",
     "output_type": "stream",
     "text": [
      "./checkpoint/figure_model/base_wa_CIFAR100_triTrue_trilam0.5_newWAFalse_20_9_resnet32.pt\n",
      "CifarResNet(\n",
      "  (conv_1_3x3): Conv2d(3, 16, kernel_size=(3, 3), stride=(1, 1), padding=(1, 1), bias=False)\n",
      "  (bn_1): BatchNorm2d(16, eps=1e-05, momentum=0.1, affine=True, track_running_stats=True)\n",
      "  (stage_1): Sequential(\n",
      "    (0): ResNetBasicblock(\n",
      "      (conv_a): Conv2d(16, 16, kernel_size=(3, 3), stride=(1, 1), padding=(1, 1), bias=False)\n",
      "      (bn_a): BatchNorm2d(16, eps=1e-05, momentum=0.1, affine=True, track_running_stats=True)\n",
      "      (conv_b): Conv2d(16, 16, kernel_size=(3, 3), stride=(1, 1), padding=(1, 1), bias=False)\n",
      "      (bn_b): BatchNorm2d(16, eps=1e-05, momentum=0.1, affine=True, track_running_stats=True)\n",
      "    )\n",
      "    (1): ResNetBasicblock(\n",
      "      (conv_a): Conv2d(16, 16, kernel_size=(3, 3), stride=(1, 1), padding=(1, 1), bias=False)\n",
      "      (bn_a): BatchNorm2d(16, eps=1e-05, momentum=0.1, affine=True, track_running_stats=True)\n",
      "      (conv_b): Conv2d(16, 16, kernel_size=(3, 3), stride=(1, 1), padding=(1, 1), bias=False)\n",
      "      (bn_b): BatchNorm2d(16, eps=1e-05, momentum=0.1, affine=True, track_running_stats=True)\n",
      "    )\n",
      "    (2): ResNetBasicblock(\n",
      "      (conv_a): Conv2d(16, 16, kernel_size=(3, 3), stride=(1, 1), padding=(1, 1), bias=False)\n",
      "      (bn_a): BatchNorm2d(16, eps=1e-05, momentum=0.1, affine=True, track_running_stats=True)\n",
      "      (conv_b): Conv2d(16, 16, kernel_size=(3, 3), stride=(1, 1), padding=(1, 1), bias=False)\n",
      "      (bn_b): BatchNorm2d(16, eps=1e-05, momentum=0.1, affine=True, track_running_stats=True)\n",
      "    )\n",
      "    (3): ResNetBasicblock(\n",
      "      (conv_a): Conv2d(16, 16, kernel_size=(3, 3), stride=(1, 1), padding=(1, 1), bias=False)\n",
      "      (bn_a): BatchNorm2d(16, eps=1e-05, momentum=0.1, affine=True, track_running_stats=True)\n",
      "      (conv_b): Conv2d(16, 16, kernel_size=(3, 3), stride=(1, 1), padding=(1, 1), bias=False)\n",
      "      (bn_b): BatchNorm2d(16, eps=1e-05, momentum=0.1, affine=True, track_running_stats=True)\n",
      "    )\n",
      "    (4): ResNetBasicblock(\n",
      "      (conv_a): Conv2d(16, 16, kernel_size=(3, 3), stride=(1, 1), padding=(1, 1), bias=False)\n",
      "      (bn_a): BatchNorm2d(16, eps=1e-05, momentum=0.1, affine=True, track_running_stats=True)\n",
      "      (conv_b): Conv2d(16, 16, kernel_size=(3, 3), stride=(1, 1), padding=(1, 1), bias=False)\n",
      "      (bn_b): BatchNorm2d(16, eps=1e-05, momentum=0.1, affine=True, track_running_stats=True)\n",
      "    )\n",
      "  )\n",
      "  (stage_2): Sequential(\n",
      "    (0): ResNetBasicblock(\n",
      "      (conv_a): Conv2d(16, 32, kernel_size=(3, 3), stride=(2, 2), padding=(1, 1), bias=False)\n",
      "      (bn_a): BatchNorm2d(32, eps=1e-05, momentum=0.1, affine=True, track_running_stats=True)\n",
      "      (conv_b): Conv2d(32, 32, kernel_size=(3, 3), stride=(1, 1), padding=(1, 1), bias=False)\n",
      "      (bn_b): BatchNorm2d(32, eps=1e-05, momentum=0.1, affine=True, track_running_stats=True)\n",
      "      (downsample): DownsampleA(\n",
      "        (avg): AvgPool2d(kernel_size=1, stride=2, padding=0)\n",
      "      )\n",
      "    )\n",
      "    (1): ResNetBasicblock(\n",
      "      (conv_a): Conv2d(32, 32, kernel_size=(3, 3), stride=(1, 1), padding=(1, 1), bias=False)\n",
      "      (bn_a): BatchNorm2d(32, eps=1e-05, momentum=0.1, affine=True, track_running_stats=True)\n",
      "      (conv_b): Conv2d(32, 32, kernel_size=(3, 3), stride=(1, 1), padding=(1, 1), bias=False)\n",
      "      (bn_b): BatchNorm2d(32, eps=1e-05, momentum=0.1, affine=True, track_running_stats=True)\n",
      "    )\n",
      "    (2): ResNetBasicblock(\n",
      "      (conv_a): Conv2d(32, 32, kernel_size=(3, 3), stride=(1, 1), padding=(1, 1), bias=False)\n",
      "      (bn_a): BatchNorm2d(32, eps=1e-05, momentum=0.1, affine=True, track_running_stats=True)\n",
      "      (conv_b): Conv2d(32, 32, kernel_size=(3, 3), stride=(1, 1), padding=(1, 1), bias=False)\n",
      "      (bn_b): BatchNorm2d(32, eps=1e-05, momentum=0.1, affine=True, track_running_stats=True)\n",
      "    )\n",
      "    (3): ResNetBasicblock(\n",
      "      (conv_a): Conv2d(32, 32, kernel_size=(3, 3), stride=(1, 1), padding=(1, 1), bias=False)\n",
      "      (bn_a): BatchNorm2d(32, eps=1e-05, momentum=0.1, affine=True, track_running_stats=True)\n",
      "      (conv_b): Conv2d(32, 32, kernel_size=(3, 3), stride=(1, 1), padding=(1, 1), bias=False)\n",
      "      (bn_b): BatchNorm2d(32, eps=1e-05, momentum=0.1, affine=True, track_running_stats=True)\n",
      "    )\n",
      "    (4): ResNetBasicblock(\n",
      "      (conv_a): Conv2d(32, 32, kernel_size=(3, 3), stride=(1, 1), padding=(1, 1), bias=False)\n",
      "      (bn_a): BatchNorm2d(32, eps=1e-05, momentum=0.1, affine=True, track_running_stats=True)\n",
      "      (conv_b): Conv2d(32, 32, kernel_size=(3, 3), stride=(1, 1), padding=(1, 1), bias=False)\n",
      "      (bn_b): BatchNorm2d(32, eps=1e-05, momentum=0.1, affine=True, track_running_stats=True)\n",
      "    )\n",
      "  )\n",
      "  (stage_3): Sequential(\n",
      "    (0): ResNetBasicblock(\n",
      "      (conv_a): Conv2d(32, 64, kernel_size=(3, 3), stride=(2, 2), padding=(1, 1), bias=False)\n",
      "      (bn_a): BatchNorm2d(64, eps=1e-05, momentum=0.1, affine=True, track_running_stats=True)\n",
      "      (conv_b): Conv2d(64, 64, kernel_size=(3, 3), stride=(1, 1), padding=(1, 1), bias=False)\n",
      "      (bn_b): BatchNorm2d(64, eps=1e-05, momentum=0.1, affine=True, track_running_stats=True)\n",
      "      (downsample): DownsampleA(\n",
      "        (avg): AvgPool2d(kernel_size=1, stride=2, padding=0)\n",
      "      )\n",
      "    )\n",
      "    (1): ResNetBasicblock(\n",
      "      (conv_a): Conv2d(64, 64, kernel_size=(3, 3), stride=(1, 1), padding=(1, 1), bias=False)\n",
      "      (bn_a): BatchNorm2d(64, eps=1e-05, momentum=0.1, affine=True, track_running_stats=True)\n",
      "      (conv_b): Conv2d(64, 64, kernel_size=(3, 3), stride=(1, 1), padding=(1, 1), bias=False)\n",
      "      (bn_b): BatchNorm2d(64, eps=1e-05, momentum=0.1, affine=True, track_running_stats=True)\n",
      "    )\n",
      "    (2): ResNetBasicblock(\n",
      "      (conv_a): Conv2d(64, 64, kernel_size=(3, 3), stride=(1, 1), padding=(1, 1), bias=False)\n",
      "      (bn_a): BatchNorm2d(64, eps=1e-05, momentum=0.1, affine=True, track_running_stats=True)\n",
      "      (conv_b): Conv2d(64, 64, kernel_size=(3, 3), stride=(1, 1), padding=(1, 1), bias=False)\n",
      "      (bn_b): BatchNorm2d(64, eps=1e-05, momentum=0.1, affine=True, track_running_stats=True)\n",
      "    )\n",
      "    (3): ResNetBasicblock(\n",
      "      (conv_a): Conv2d(64, 64, kernel_size=(3, 3), stride=(1, 1), padding=(1, 1), bias=False)\n",
      "      (bn_a): BatchNorm2d(64, eps=1e-05, momentum=0.1, affine=True, track_running_stats=True)\n",
      "      (conv_b): Conv2d(64, 64, kernel_size=(3, 3), stride=(1, 1), padding=(1, 1), bias=False)\n",
      "      (bn_b): BatchNorm2d(64, eps=1e-05, momentum=0.1, affine=True, track_running_stats=True)\n",
      "    )\n",
      "    (4): ResNetBasicblock(\n",
      "      (conv_a): Conv2d(64, 64, kernel_size=(3, 3), stride=(1, 1), padding=(1, 1), bias=False)\n",
      "      (bn_a): BatchNorm2d(64, eps=1e-05, momentum=0.1, affine=True, track_running_stats=True)\n",
      "      (conv_b): Conv2d(64, 64, kernel_size=(3, 3), stride=(1, 1), padding=(1, 1), bias=False)\n",
      "      (bn_b): BatchNorm2d(64, eps=1e-05, momentum=0.1, affine=True, track_running_stats=True)\n",
      "    )\n",
      "  )\n",
      "  (avgpool): AvgPool2d(kernel_size=8, stride=8, padding=0)\n",
      "  (fc): Linear(in_features=64, out_features=100, bias=True)\n",
      "  (gate_fc): Linear(in_features=64, out_features=20, bias=True)\n",
      ")\n"
     ]
    },
    {
     "name": "stderr",
     "output_type": "stream",
     "text": [
      "C:\\Users\\Hongjun\\git_repository\\CL_sampling\\models\\model_resnet.py:92: UserWarning: nn.init.kaiming_normal is now deprecated in favor of nn.init.kaiming_normal_.\n",
      "  init.kaiming_normal(m.weight)\n"
     ]
    }
   ],
   "source": [
    "models_dir = \"./checkpoint/figure_model/\"\n",
    "\n",
    "device = 'cuda' if torch.cuda.is_available() else 'cpu'\n",
    "total_task = 20\n",
    "tasknum = 9\n",
    "\n",
    "\n",
    "if args.CCtriplet :\n",
    "    model_dir = os.path.join(models_dir, 'base_{}_{}_tri{}_trilam{}_newWA{}_{}_{}_{}.pt'.format(args.trainer, args.dataset,args.CCtriplet, args.triplet_lam, args.new_WA, total_task, tasknum, args.model))\n",
    "else :\n",
    "    model_dir = os.path.join(models_dir, 'base_{}_{}_tri{}_newWA{}_{}_{}_{}.pt'.format(args.trainer, args.dataset,args.CCtriplet,args.new_WA, total_task, tasknum, args.model))\n",
    "print(model_dir)\n",
    "saved_model = torch.load(model_dir, map_location='cuda:0')\n",
    "numclass=100\n",
    "\n",
    "net = resnet32(num_classes=numclass, tasknum=total_task)\n",
    "net.load_state_dict(saved_model)\n",
    "\n",
    "net.eval()\n",
    "net.cuda()\n",
    "\n",
    "print(net)\n"
   ]
  },
  {
   "cell_type": "markdown",
   "metadata": {},
   "source": [
    "# Load dataset"
   ]
  },
  {
   "cell_type": "code",
   "execution_count": 4,
   "metadata": {},
   "outputs": [
    {
     "name": "stderr",
     "output_type": "stream",
     "text": [
      "C:\\Users\\Hongjun\\Anaconda3\\envs\\pytorch_project\\lib\\site-packages\\torch\\cuda\\memory.py:346: FutureWarning: torch.cuda.memory_cached has been renamed to torch.cuda.memory_reserved\n",
      "  FutureWarning)\n"
     ]
    },
    {
     "name": "stdout",
     "output_type": "stream",
     "text": [
      "current cuda :  0\n",
      "GeForce RTX 2070 SUPER\n",
      "Memory Usage:\n",
      "Allocated: 0.0 GB\n",
      "Cached:    0.0 GB\n",
      "Files already downloaded and verified\n",
      "Files already downloaded and verified\n",
      "[49 33 72 ... 51 42 70]\n",
      "Label shuffled\n"
     ]
    }
   ],
   "source": [
    "\n",
    "GPU_NUM = 0 # 원하는 GPU 번호 입력\n",
    "device = torch.device(f'cuda:{GPU_NUM}' if torch.cuda.is_available() else 'cpu')\n",
    "\n",
    "torch.cuda.set_device(device)\n",
    "print(\"current cuda : \", torch.cuda.current_device())\n",
    "\n",
    "if device.type == 'cuda':\n",
    "    print(torch.cuda.get_device_name(GPU_NUM))\n",
    "    print('Memory Usage:')\n",
    "    print('Allocated:', round(torch.cuda.memory_allocated(GPU_NUM)/1024**3,1), 'GB')\n",
    "    print('Cached:   ', round(torch.cuda.memory_cached(GPU_NUM)/1024**3,1), 'GB')\n",
    "\n",
    "\n",
    "\n",
    "#seed\n",
    "seed = args.seed\n",
    "set_seed(seed)\n",
    "\n",
    "data = DatasetWH\n",
    "dataset = data.get_dataset(args.dataset)\n",
    "tasknum = (dataset.classes - args.start_classes) // args.step_size + 1\n",
    "\n",
    "\n",
    "shuffle_idx = shuffle(np.arange(dataset.classes), random_state = 1)\n",
    "\n",
    "\n",
    "test_dataset_loader = myData.iDataLoader.IncrementalLoader(dataset.test_data,\n",
    "                                                            dataset.test_labels,\n",
    "                                                            dataset.classes,\n",
    "                                                            args.step_size,\n",
    "                                                            args.memory_size,\n",
    "                                                            'test',\n",
    "                                                            transform=dataset.test_transform,\n",
    "                                                            loader=None,\n",
    "                                                            shuffle_idx=shuffle_idx,\n",
    "                                                            base_classes=args.start_classes,\n",
    "                                                            approach= \"wa\",\n",
    "                                                            args = args\n",
    "                                                            )\n",
    "\n",
    "\n",
    "test_iterator = torch.utils.data.DataLoader(test_dataset_loader, batch_size=100, shuffle=False)\n",
    "\n",
    "testType = \"trainedClassifier\""
   ]
  },
  {
   "cell_type": "code",
   "execution_count": 5,
   "metadata": {},
   "outputs": [],
   "source": [
    "\n",
    "target_list = []\n",
    "\n",
    "class_prob = []\n",
    "def one_epoch_test(testloader=None, current_epoch=None):\n",
    "    global best_acc\n",
    "    global best_class_acc\n",
    "    criterion = nn.CrossEntropyLoss()\n",
    "\n",
    "    print('\\nEpoch: %d' % current_epoch)\n",
    "    print(\"Testing...\")\n",
    "\n",
    "    net.eval()\n",
    "    test_loss = 0\n",
    "    correct = 0\n",
    "    total = 0\n",
    "    class_correct = 0\n",
    "    class_acc = []\n",
    "    prob = 0\n",
    "    #class_prob = []\n",
    "\n",
    "    with torch.no_grad():\n",
    "        for inputs, targets, traindata_idx in tqdm(testloader):\n",
    "            inputs = inputs.float().cuda()\n",
    "            inputs, targets = inputs.to(device), targets.to(device)\n",
    "            outputs = net(inputs)[:, :args.start_classes]\n",
    "\n",
    "            _, predicted = outputs.max(1)\n",
    "            total += targets.size(0)\n",
    "\n",
    "            class_correct += predicted.eq(targets).sum().item()\n",
    "            correct += predicted.eq(targets).sum().item()\n",
    "            prob += torch.mean(F.softmax(outputs, dim=1), dim=0)\n",
    "\n",
    "            acc = correct / total\n",
    "\n",
    "        if acc > best_acc:\n",
    "            best_acc = acc\n",
    "            best_class_acc = class_acc\n",
    "            print('Saving..')\n",
    "            state = {\n",
    "                'net': net.state_dict(),\n",
    "                'acc': acc,\n",
    "                'epoch': current_epoch,\n",
    "            }\n",
    "\n",
    "        print(best_acc)\n",
    "        \n",
    "def run_featureMap(testloader = None, model = None, current_epoch=None) :\n",
    "    #print('\\nEpoch: %d' % current_epoch)\n",
    "    print(\"Testing...\")\n",
    "    \n",
    "    model = model.cuda()\n",
    "    model.eval()\n",
    "    test_loss = 0\n",
    "    correct = 0\n",
    "    total = 0\n",
    "    class_correct = 0\n",
    "    class_acc = []\n",
    "\n",
    "    with torch.no_grad():\n",
    "        for inputs, targets, traindata_idx in testloader :\n",
    "            inputs = inputs.float().cuda()\n",
    "            targets = targets.type(dtype=torch.long).cuda()\n",
    "\n",
    "            outputs, features = model(inputs, feature_return = True)\n",
    "\n",
    "            \n",
    "            targets, features = targets.cpu(), features.cpu()\n",
    "            target_list.append(targets)\n",
    "            feature_output_list.append(features)     "
   ]
  },
  {
   "cell_type": "markdown",
   "metadata": {},
   "source": [
    "# Get feature map for each class"
   ]
  },
  {
   "cell_type": "code",
   "execution_count": 6,
   "metadata": {},
   "outputs": [],
   "source": [
    "\n",
    "def get_avg_feature_map(net) :\n",
    "    best_class_acc = 0\n",
    "    best_acc = 0\n",
    "\n",
    "\n",
    "    for i in range(1) :\n",
    "        run_featureMap(test_iterator, net, i)\n",
    "\n",
    "    featureMap = np.concatenate(feature_output_list)\n",
    "    targetList = np.concatenate(target_list)\n",
    "\n",
    "    class_feature = []\n",
    "    avg_feature = []\n",
    "    std_feature = []\n",
    "\n",
    "    for i in range(args.start_classes) :\n",
    "        class_feature.append(featureMap[i*100:(i+1)*100])\n",
    "        temp_mean = np.mean(class_feature[i], axis=0)\n",
    "        #temp_std = np.std(class_feature[i], axis=0)\n",
    "        avg_feature.append(torch.tensor(temp_mean))\n",
    "        #std_feature.append(torch.tensor(temp_std))\n",
    "\n",
    "    classnum = args.start_classes\n",
    "    cos = torch.nn.CosineSimilarity(dim=0)\n",
    "\n",
    "    mtx = np.zeros((classnum,classnum))\n",
    "    \n",
    "    for i in range(classnum) :\n",
    "        for j in range(classnum) :\n",
    "            mtx[i,j] = cos(avg_feature[i], avg_feature[j])\n",
    "    \n",
    "    return mtx"
   ]
  },
  {
   "cell_type": "code",
   "execution_count": 7,
   "metadata": {},
   "outputs": [
    {
     "name": "stdout",
     "output_type": "stream",
     "text": [
      "Testing...\n"
     ]
    }
   ],
   "source": [
    "global feature_output_list\n",
    "feature_output_list = []\n",
    "mtx = get_avg_feature_map(net)"
   ]
  },
  {
   "cell_type": "markdown",
   "metadata": {},
   "source": [
    "# Plot ART+WA"
   ]
  },
  {
   "cell_type": "code",
   "execution_count": 8,
   "metadata": {},
   "outputs": [
    {
     "data": {
      "image/png": "[encoded data removed]",
      "text/plain": [
       "<Figure size 720x576 with 2 Axes>"
      ]
     },
     "metadata": {
      "needs_background": "light"
     },
     "output_type": "display_data"
    }
   ],
   "source": [
    "mp.subplots(figsize=(10,8))\n",
    "sns.heatmap(mtx, annot=False, annot_kws={'size':20}, cmap=\"coolwarm\", vmin=0.2, vmax=0.9) #dist_out : class_matrix\n",
    "\n",
    "mp.show()"
   ]
  },
  {
   "cell_type": "markdown",
   "metadata": {},
   "source": [
    "# Plot CTL+WA"
   ]
  },
  {
   "cell_type": "code",
   "execution_count": 9,
   "metadata": {},
   "outputs": [
    {
     "name": "stdout",
     "output_type": "stream",
     "text": [
      "Testing...\n"
     ]
    },
    {
     "data": {
      "image/png": "[encoded data removed]",
      "text/plain": [
       "<Figure size 720x576 with 2 Axes>"
      ]
     },
     "metadata": {
      "needs_background": "light"
     },
     "output_type": "display_data"
    }
   ],
   "source": [
    "args.trainer = 'CTL'\n",
    "models_dir = \"./checkpoint/figure_model/\"\n",
    "\n",
    "device = 'cuda' if torch.cuda.is_available() else 'cpu'\n",
    "total_task = 20\n",
    "tasknum = 9\n",
    "\n",
    "if args.CCtriplet :\n",
    "    model_dir = os.path.join(models_dir, 'base_{}_{}_tri{}_trilam{}_newWA{}_{}_{}_{}.pt'.format(args.trainer, args.dataset,args.CCtriplet, args.triplet_lam, args.new_WA, total_task, tasknum, args.model))\n",
    "else :\n",
    "    model_dir = os.path.join(models_dir, 'base_{}_{}_tri{}_newWA{}_{}_{}_{}.pt'.format(args.trainer, args.dataset,args.CCtriplet,args.new_WA, total_task, tasknum, args.model))\n",
    "\n",
    "saved_model = torch.load(model_dir, map_location='cuda:0')\n",
    "numclass=100\n",
    "\n",
    "net = resnet32(num_classes=numclass, tasknum=total_task)\n",
    "\n",
    "net.load_state_dict(saved_model)\n",
    "\n",
    "net.eval()\n",
    "net.cuda()\n",
    "\n",
    "global feature_output_list\n",
    "feature_output_list = []\n",
    "mtx = get_avg_feature_map(net)\n",
    "\n",
    "mp.subplots(figsize=(10,8))\n",
    "sns.heatmap(mtx, annot=False, annot_kws={'size':20}, cmap=\"coolwarm\", vmin=0.2, vmax=0.9) #dist_out : class_matrix\n",
    "\n",
    "mp.show()"
   ]
  },
  {
   "cell_type": "markdown",
   "metadata": {},
   "source": [
    "# Plot vanilla WA"
   ]
  },
  {
   "cell_type": "code",
   "execution_count": 10,
   "metadata": {},
   "outputs": [
    {
     "name": "stdout",
     "output_type": "stream",
     "text": [
      "Testing...\n"
     ]
    },
    {
     "data": {
      "image/png": "[encoded data removed]",
      "text/plain": [
       "<Figure size 720x576 with 2 Axes>"
      ]
     },
     "metadata": {
      "needs_background": "light"
     },
     "output_type": "display_data"
    }
   ],
   "source": [
    "\n",
    "args.trainer = \"wa\"\n",
    "args.CCtriplet = False\n",
    "\n",
    "models_dir = \"./checkpoint/figure_model/\"\n",
    "\n",
    "device = 'cuda' if torch.cuda.is_available() else 'cpu'\n",
    "total_task = 20\n",
    "tasknum = 9\n",
    "\n",
    "#Load model\n",
    "if args.CCtriplet :\n",
    "    model_dir = os.path.join(models_dir, 'base_{}_{}_tri{}_trilam{}_newWA{}_{}_{}_{}.pt'.format(args.trainer, args.dataset,args.CCtriplet, args.triplet_lam, args.new_WA, total_task, tasknum, args.model))\n",
    "else :\n",
    "    model_dir = os.path.join(models_dir, 'base_{}_{}_tri{}_newWA{}_{}_{}_{}.pt'.format(args.trainer, args.dataset,args.CCtriplet,args.new_WA, total_task, tasknum, args.model))\n",
    "\n",
    "saved_model = torch.load(model_dir, map_location='cuda:0')\n",
    "numclass=100\n",
    "\n",
    "net = resnet32(num_classes=numclass, tasknum=total_task)\n",
    "\n",
    "net.load_state_dict(saved_model)\n",
    "\n",
    "net.eval()\n",
    "net.cuda()\n",
    "\n",
    "global feature_output_list\n",
    "feature_output_list = []\n",
    "mtx = get_avg_feature_map(net)\n",
    "\n",
    "mp.subplots(figsize=(10,8))\n",
    "sns.heatmap(mtx, annot=False, annot_kws={'size':20}, cmap=\"coolwarm\", vmin=0.2, vmax=0.9) #dist_out : class_matrix\n",
    "\n",
    "mp.show()"
   ]
  }
 ],
 "metadata": {
  "kernelspec": {
   "display_name": "pytorch_project",
   "language": "python",
   "name": "pytorch_project"
  },
  "language_info": {
   "codemirror_mode": {
    "name": "ipython",
    "version": 3
   },
   "file_extension": ".py",
   "mimetype": "text/x-python",
   "name": "python",
   "nbconvert_exporter": "python",
   "pygments_lexer": "ipython3",
   "version": "3.7.5"
  }
 },
 "nbformat": 4,
 "nbformat_minor": 2
}
